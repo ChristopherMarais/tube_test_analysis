{
 "cells": [
  {
   "cell_type": "code",
   "execution_count": 1,
   "id": "a63cb54a-bb38-4476-85b1-f9c09d152d73",
   "metadata": {
    "execution": {
     "iopub.execute_input": "2023-03-31T23:19:11.276909Z",
     "iopub.status.busy": "2023-03-31T23:19:11.276411Z",
     "iopub.status.idle": "2023-03-31T23:19:12.927418Z",
     "shell.execute_reply": "2023-03-31T23:19:12.926915Z",
     "shell.execute_reply.started": "2023-03-31T23:19:11.276909Z"
    },
    "tags": []
   },
   "outputs": [],
   "source": [
    "# import packages\n",
    "import pandas as pd\n",
    "import numpy as np"
   ]
  },
  {
   "cell_type": "code",
   "execution_count": null,
   "id": "231e8d68-d143-43cb-adc4-66720ab64bc2",
   "metadata": {},
   "outputs": [],
   "source": [
    "# import data\n",
    "data_dir = r\"F:\\Dropbox (UFL)\\Meghan_data\\\\\"\n",
    "df = pd.read_hdf('file.h5', 'key')"
   ]
  }
 ],
 "metadata": {
  "kernelspec": {
   "display_name": "Python 3 (ipykernel)",
   "language": "python",
   "name": "python3"
  },
  "language_info": {
   "codemirror_mode": {
    "name": "ipython",
    "version": 3
   },
   "file_extension": ".py",
   "mimetype": "text/x-python",
   "name": "python",
   "nbconvert_exporter": "python",
   "pygments_lexer": "ipython3",
   "version": "3.9.16"
  }
 },
 "nbformat": 4,
 "nbformat_minor": 5
}
