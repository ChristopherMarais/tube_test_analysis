{
 "cells": [
  {
   "cell_type": "code",
   "execution_count": null,
   "id": "865a7082-b4ab-4d80-897a-b33242157417",
   "metadata": {
    "tags": []
   },
   "outputs": [],
   "source": [
    "# import packages\n",
    "import itertools\n",
    "import numpy as np\n",
    "from scipy.spatial.distance import cdist\n",
    "import pandas as pd\n",
    "# import modin.pandas as pd # for faster parallelized processing\n",
    "# from distributed import Client # this is required when using modin with dask"
   ]
  },
  {
   "cell_type": "code",
   "execution_count": null,
   "id": "2063f295-43a5-436c-a91d-8cb9767f356f",
   "metadata": {
    "tags": []
   },
   "outputs": [],
   "source": [
    "# client = Client() # this is required when using modin with dask"
   ]
  },
  {
   "cell_type": "code",
   "execution_count": null,
   "id": "d4a111ec-391b-4110-81b9-2bd83d23aafb",
   "metadata": {
    "tags": []
   },
   "outputs": [],
   "source": [
    "def pairwise_distance_vector(arr_coord):\n",
    "    p_dsit_arr = pairwise_cdist(arr_coord)      \n",
    "    # Get the indices of the upper-triangle elements of the matrix\n",
    "    indices = np.triu_indices(p_dsit_arr.shape[0], k=1)\n",
    "    # Extract the upper-triangle elements as a 1D vector\n",
    "    pairwise_dist_vec = p_dsit_arr[indices]\n",
    "    return pairwise_dist_vec\n",
    "\n",
    "def pairwise_cdist(coord_lst_arr):\n",
    "    return cdist(coord_lst_arr, coord_lst_arr)"
   ]
  },
  {
   "cell_type": "code",
   "execution_count": null,
   "id": "72156f51-9113-46e0-92b8-39cc9157568e",
   "metadata": {
    "tags": []
   },
   "outputs": [],
   "source": [
    "# import data\n",
    "raw_data_dir = r\"F:\\Dropbox (UFL)\\sleap_umap_tube_test_03312023\\tube_test_analysis\\all_matches_videos\\\\\"\n",
    "coord_filename = r\"all_matches_videos_node_coordinates.csv\"\n",
    "df_data = pd.read_csv(raw_data_dir+coord_filename, index_col=\"Unnamed: 0\")\n",
    "# get all the identifiers in column headers\n",
    "node_names = ['ear', 'nose', 'tail_base', 'thorax', 'front_foot', 'rear_foot']\n",
    "track_names = [\"track_0\", \"track_1\"]\n",
    "track_0_node_names = [\"track_0__\" + s for s in node_names]\n",
    "track_1_node_names = [\"track_1__\" + s for s in node_names]\n",
    "track_node_names = track_0_node_names + track_1_node_names\n",
    "dist_pair_names = ['__dist_to__'.join(x) for x in list(itertools.combinations(track_node_names, 2))]\n",
    "axis_names = [\"x\", \"y\"]\n",
    "trials_lst = df_data['trial'].unique().tolist()\n",
    "df_data"
   ]
  },
  {
   "cell_type": "code",
   "execution_count": null,
   "id": "cad03b1c-ea05-4bd8-9fa3-1e7f916a279d",
   "metadata": {
    "tags": []
   },
   "outputs": [],
   "source": [
    "# coordinate numpy array pairing x and y coordinates\n",
    "arr_data = np.array(df_data.iloc[:,:-1])\n",
    "arr_coord_data = arr_data.reshape(arr_data.shape[0], int(arr_data.shape[1]/2), 2)\n",
    "\n",
    "# calcualte all pairwise distances\n",
    "# not the msot efficient with a for loop here, but it gets the job done for this amount of data\n",
    "pairwise_distance_lst = []\n",
    "for i in range(len(arr_coord_data)): \n",
    "    pairwise_distance_lst.append(pairwise_distance_vector(arr_coord_data[i,:,:]))\n",
    "pairwise_distance_arr = np.array(pairwise_distance_lst)\n",
    "pairwise_distance_df = pd.DataFrame(pairwise_distance_arr)\n",
    "pairwise_distance_df.columns = dist_pair_names\n",
    "pairwise_distance_df['trial'] = df_data['trial']\n",
    "\n",
    "pairwise_distance_df"
   ]
  },
  {
   "cell_type": "code",
   "execution_count": null,
   "id": "1a6221fa-2270-4e6d-8fd5-b70173c9a3f8",
   "metadata": {
    "tags": []
   },
   "outputs": [],
   "source": [
    "# save the dsitances to a csv\n",
    "dist_filename = r\"all_matches_videos_node_distances.csv\"\n",
    "pairwise_distance_df.to_csv(raw_data_dir+dist_filename)"
   ]
  }
 ],
 "metadata": {
  "kernelspec": {
   "display_name": "Python 3 (ipykernel)",
   "language": "python",
   "name": "python3"
  },
  "language_info": {
   "codemirror_mode": {
    "name": "ipython",
    "version": 3
   },
   "file_extension": ".py",
   "mimetype": "text/x-python",
   "name": "python",
   "nbconvert_exporter": "python",
   "pygments_lexer": "ipython3",
   "version": "3.9.16"
  }
 },
 "nbformat": 4,
 "nbformat_minor": 5
}
